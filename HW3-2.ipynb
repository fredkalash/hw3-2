{
 "cells": [
  {
   "cell_type": "code",
   "execution_count": 1,
   "metadata": {},
   "outputs": [],
   "source": [
    "#Problem 1"
   ]
  },
  {
   "cell_type": "code",
   "execution_count": 2,
   "metadata": {},
   "outputs": [],
   "source": [
    "#a"
   ]
  },
  {
   "cell_type": "code",
   "execution_count": 3,
   "metadata": {},
   "outputs": [],
   "source": [
    "import numpy as np\n",
    "import pandas as pd\n",
    "from scipy.stats import rankdata\n",
    "from sklearn.cluster import KMeans\n",
    "np.random.seed(0)"
   ]
  },
  {
   "cell_type": "code",
   "execution_count": 4,
   "metadata": {},
   "outputs": [
    {
     "name": "stdout",
     "output_type": "stream",
     "text": [
      "(5476, 1)\n"
     ]
    },
    {
     "data": {
      "text/plain": [
       "array(['fig', 'cells', 'science', ..., 'duplicated', 'e18',\n",
       "       'incommensurate'], dtype='<U32')"
      ]
     },
     "execution_count": 4,
     "metadata": {},
     "output_type": "execute_result"
    }
   ],
   "source": [
    "vocab = pd.read_csv('science2k-vocab.txt', header=None)\n",
    "print(vocab.shape)\n",
    "vocab = np.array(vocab[0].tolist())\n",
    "vocab"
   ]
  },
  {
   "cell_type": "code",
   "execution_count": 5,
   "metadata": {},
   "outputs": [
    {
     "name": "stdout",
     "output_type": "stream",
     "text": [
      "(1373, 1)\n"
     ]
    },
    {
     "data": {
      "text/plain": [
       "array(['Archaeology in the Holy Land',\n",
       "       \"Baedeker's Guide, or Just Plain 'Trouble'?\",\n",
       "       \"Duchamp's L.H.O.O.Q.-From 1919 or 1930?\", ...,\n",
       "       'Cholinergic Enhancement and Increased Selectivity of Perceptual Processing during Working Memory',\n",
       "       'A Global Geometric Framework for Nonlinear Dimensionality Reduction',\n",
       "       'Nonlinear Dimensionality Reduction by Locally Linear Embedding'],\n",
       "      dtype='<U172')"
      ]
     },
     "execution_count": 5,
     "metadata": {},
     "output_type": "execute_result"
    }
   ],
   "source": [
    "titles = pd.read_csv('science2k-titles.txt', header=None)\n",
    "print(titles.shape)\n",
    "titles = np.array(titles[0].tolist())\n",
    "titles"
   ]
  },
  {
   "cell_type": "code",
   "execution_count": 9,
   "metadata": {},
   "outputs": [
    {
     "name": "stdout",
     "output_type": "stream",
     "text": [
      "(1373, 5476)\n"
     ]
    }
   ],
   "source": [
    "X = np.load(\"science2k-doc-word.npy\")\n",
    "print(X.shape)"
   ]
  },
  {
   "cell_type": "code",
   "execution_count": 10,
   "metadata": {},
   "outputs": [
    {
     "data": {
      "text/plain": [
       "'\\nCluster the documents using k-means and various values of k (go up to at least k = 20).\\nSelect a value of k.\\n'"
      ]
     },
     "execution_count": 10,
     "metadata": {},
     "output_type": "execute_result"
    }
   ],
   "source": [
    "\"\"\"\n",
    "Cluster the documents using k-means and various values of k (go up to at least k = 20).\n",
    "Select a value of k.\n",
    "\"\"\""
   ]
  },
  {
   "cell_type": "code",
   "execution_count": 11,
   "metadata": {},
   "outputs": [
    {
     "name": "stdout",
     "output_type": "stream",
     "text": [
      "1\n",
      "[0 0 0 ... 0 0 0]\n",
      "2\n",
      "[1 1 1 ... 1 1 1]\n",
      "3\n",
      "[2 2 2 ... 1 2 2]\n",
      "4\n",
      "[2 2 2 ... 1 2 2]\n",
      "5\n",
      "[2 2 2 ... 1 2 2]\n",
      "6\n",
      "[2 2 2 ... 1 5 2]\n",
      "7\n",
      "[6 6 6 ... 1 6 6]\n",
      "8\n",
      "[5 5 5 ... 2 2 5]\n",
      "9\n",
      "[3 3 3 ... 5 6 6]\n",
      "10\n",
      "[7 7 7 ... 7 3 7]\n",
      "11\n",
      "[5 5 5 ... 2 2 5]\n",
      "12\n",
      "[1 1 1 ... 9 2 2]\n",
      "13\n",
      "[ 5  5  5 ...  2 10  5]\n",
      "14\n",
      "[11 11 11 ...  4  4  4]\n",
      "15\n",
      "[14 14 10 ...  3  3  3]\n",
      "16\n",
      "[9 7 9 ... 2 2 2]\n",
      "17\n",
      "[ 5  5  5 ...  2 16  5]\n",
      "18\n",
      "[ 5  5  5 ...  2 16  5]\n",
      "19\n",
      "[ 5  5  5 ...  2 16  5]\n",
      "20\n",
      "[9 9 9 ... 1 1 8]\n"
     ]
    }
   ],
   "source": [
    "for k in range(1,21):\n",
    "    kmeans = KMeans(n_clusters=k,n_init=2, max_iter=2, random_state=0).fit(X)\n",
    "    print(k)\n",
    "    print(kmeans.labels_)\n",
    "    #break # comment out to run in full (takes a while)"
   ]
  },
  {
   "cell_type": "code",
   "execution_count": 12,
   "metadata": {},
   "outputs": [
    {
     "data": {
      "text/plain": [
       "'\\nSelect a value of k. \\n\\n\\nFor that value, report the top 10 words of each cluster in order of the largest positive distance\\nfrom the average value across all data. More specifically, if x is the 5476-vector of average\\nvalues across documents and m i is the i th mean, report the words associated with the top\\ncomponents in m i − x. Report the top ten documents that fall closest to each cluster center.\\nYou can find the titles in the science2k-titles.dat file.\\n'"
      ]
     },
     "execution_count": 12,
     "metadata": {},
     "output_type": "execute_result"
    }
   ],
   "source": [
    "\"\"\"\n",
    "Select a value of k. \n",
    "\n",
    "\n",
    "For that value, report the top 10 words of each cluster in order of the largest positive distance\n",
    "from the average value across all data. More specifically, if x is the 5476-vector of average\n",
    "values across documents and m i is the i th mean, report the words associated with the top\n",
    "components in m i − x. Report the top ten documents that fall closest to each cluster center.\n",
    "You can find the titles in the science2k-titles.dat file.\n",
    "\"\"\""
   ]
  },
  {
   "cell_type": "code",
   "execution_count": 13,
   "metadata": {},
   "outputs": [],
   "source": [
    "kmeans = KMeans(n_clusters=6, n_init=60,max_iter=600, random_state=0).fit(X)"
   ]
  },
  {
   "cell_type": "code",
   "execution_count": 14,
   "metadata": {},
   "outputs": [
    {
     "data": {
      "text/plain": [
       "(5476,)"
      ]
     },
     "execution_count": 14,
     "metadata": {},
     "output_type": "execute_result"
    }
   ],
   "source": [
    "x_bar = X.mean(axis=0)\n",
    "x_bar.shape"
   ]
  },
  {
   "cell_type": "code",
   "execution_count": 15,
   "metadata": {},
   "outputs": [
    {
     "name": "stdout",
     "output_type": "stream",
     "text": [
      "(35, 5476)\n",
      "top ten words for cluster label: 0\n",
      "['binding' 'domain' 'side' 'residues' 'crystal' 'structural' 'conserved'\n",
      " 'helix' 'loop' 'bond']\n",
      "top ten titles for cluster label: 0\n",
      "['Archaeology in the Holy Land' \"Duchamp's L.H.O.O.Q.-From 1919 or 1930?\"\n",
      " 'Corrections and Clarifications: First-Principles Determination of Elastic Anisotrophy and Wave Velocities of MgO at Lower Mantle Conditions'\n",
      " 'A Crushing End for Our Galaxy'\n",
      " 'The Galactic Center: An Interacting System of Unusual Sources'\n",
      " 'Protein Interaction Mapping in C. elegans Using Proteins Involved in Vulval Development'\n",
      " 'A Short Fe-Fe Distance in Peroxodiferric Ferritin: Control of Fe Substrate versus Cofactor Decay?'\n",
      " 'DNA Topoisomerase IIb and Neural Development'\n",
      " 'Stat3-Mediated Transformation of NIH-3T3 Cells by the Constitutively Active Q205L <latex>$G\\\\alpha_o$</latex> Protein'\n",
      " 'Of Chimps and Men']\n",
      "\n",
      "(211, 5476)\n",
      "top ten words for cluster label: 1\n",
      "['surface' 'structure' 'temperature' 'energy' 'field' 'density' 'electron'\n",
      " 'measured' 'shows' 'order']\n",
      "top ten titles for cluster label: 1\n",
      "['Modulation of Brain Reward Circuitry by Leptin'\n",
      " 'A Tail of Histone Acetylation and DNA Recombination'\n",
      " 'Corrections and Clarifications: Physicists and Astronomers Prepare for a Data Flood'\n",
      " \"Fermat's Last Theorem's First Cousin\"\n",
      " 'Corrections and Clarifications: A Short Fe-Fe Distance in Peroxodiferric Ferritin: Control of Fe Substrate versus Cofactor Decay?'\n",
      " \"Corrections and Clarifications: Charon's First Detailed Spectra Hold Many Surprises\"\n",
      " 'A Subclass of Ras Proteins That Regulate the Degradation of IkB'\n",
      " 'Is Bigger Better in Cricket?'\n",
      " 'Localization of the G Protein bg Complex in Living Cells during Chemotaxis'\n",
      " 'Dopaminergic Loss and Inclusion Body Formation in a-Synuclein Mice: Implications for Neurodegenerative Disorders']\n",
      "\n",
      "(189, 5476)\n",
      "top ten words for cluster label: 2\n",
      "['surface' 'model' 'years' 'changes' 'values' 'range' 'mean' 'lower'\n",
      " 'average' 'period']\n",
      "top ten titles for cluster label: 2\n",
      "['Tracing the Origins of Salmonella Outbreaks'\n",
      " 'The Formation and Early Evolution of the Milky Way Galaxy'\n",
      " 'Rad6-Dependent Ubiquitination of Histone H2B in Yeast'\n",
      " 'Corrections and Clarifications: Transition States between Pyramids and Domes during Ge/Si Island Growth'\n",
      " 'The Role of the Southern Ocean in Uptake and Storage of Anthropogenic Carbon Dioxide'\n",
      " 'Nanotube Molecular Wires as Chemical Sensors'\n",
      " 'Oxygen Isotopes and Emerald Trade Routes since Antiquity'\n",
      " 'Redox Signaling in Chloroplasts: Cleavage of Disulfides by an Iron-Sulfur Cluster'\n",
      " 'The Health and Wealth of Nations'\n",
      " 'Widespread Complex Flow in the Interior of the Antarctic Ice Sheet']\n",
      "\n",
      "(335, 5476)\n",
      "top ten words for cluster label: 3\n",
      "['cells' 'cell' 'protein' 'gene' 'proteins' 'expression' 'type' 'activity'\n",
      " 'wild' 'expressed']\n",
      "top ten titles for cluster label: 3\n",
      "['A Short Fe-Fe Distance in Peroxodiferric Ferritin: Control of Fe Substrate versus Cofactor Decay?'\n",
      " 'Oversight Mechanisms for Clinical Research'\n",
      " 'Regulation of Protein Secretion through Controlled Aggregation in the Endoplasmic Reticulum'\n",
      " 'The Health and Wealth of Nations'\n",
      " 'The Glucocorticoid Receptor: Rapid Exchange with Regulatory Sites in Living Cells'\n",
      " 'Clues from a Shocked Meteorite'\n",
      " 'A Global View of Martian Surface Compositions from MGS-TES'\n",
      " 'Natural <latex>$NaAlSi_3O_8$</latex>-Hollandite in the Shocked Sixiangkou Meteorite'\n",
      " 'Trojan Horses' 'Model Behavior']\n",
      "\n",
      "(123, 5476)\n",
      "top ten words for cluster label: 4\n",
      "['fig' 'says' 'year' 'national' 'researchers' 'scientists' 'last' 'just'\n",
      " 'people' 'get']\n",
      "top ten titles for cluster label: 4\n",
      "['Corrections and Clarifications: First-Principles Determination of Elastic Anisotrophy and Wave Velocities of MgO at Lower Mantle Conditions'\n",
      " 'Tracing the Origins of Salmonella Outbreaks'\n",
      " \"Charon's First Detailed Spectra Hold Many Surprises\"\n",
      " 'The Baryon Halo of the Milky Way: A Fossil Record of Its Formation'\n",
      " 'The Green Revolution Strikes Gold'\n",
      " 'Mirrorless Lasing from Mesostructured Waveguides Patterned by Soft Lithography'\n",
      " 'Support Grows for British Exercise to Allocate University Funds'\n",
      " 'The Role of the Southern Ocean in Uptake and Storage of Anthropogenic Carbon Dioxide'\n",
      " 'Three-Dimensional Direct Imaging of Structural Relaxation near the Colloidal Glass Transition'\n",
      " 'Quantum-Critical Conductivity Scaling for a Metal-Insulator Transition']\n",
      "\n",
      "(480, 5476)\n",
      "top ten words for cluster label: 5\n",
      "['fig' 'data' 'research' 'observed' 'shown' 'different' 'results' 'three'\n",
      " 'reports' 'mail']\n",
      "top ten titles for cluster label: 5\n",
      "['Archaeology in the Holy Land'\n",
      " 'Social Mentalizing Abilities in Mental Patients'\n",
      " 'Direct Observation of Dynamical Heterogeneities in Colloidal Hard-Sphere Suspensions'\n",
      " 'Formation of Cyclic Water Hexamer in Liquid Helium: The Smallest Piece of Ice'\n",
      " 'Distal Initiation and Active Propagation of Action Potentials in Interneuron Dendrites'\n",
      " 'Requirement for DARPP-32 in Progesterone-Facilitated Sexual Receptivity in Female Rats and Mice'\n",
      " 'Three-Layered Atmospheric Structure in Accretion Disks around Stellar-Mass Black Holes'\n",
      " 'The Glucocorticoid Receptor: Rapid Exchange with Regulatory Sites in Living Cells'\n",
      " 'Galaxy-Scale Mergers and Globular Custers'\n",
      " 'Extreme Oxygen Sensitivity of Electronic Properties of Carbon Nanotubes']\n",
      "\n"
     ]
    }
   ],
   "source": [
    "for cluster_label in np.unique(kmeans.labels_):\n",
    "    #print(cluster_label)\n",
    "    cluster = X[(kmeans.labels_==cluster_label),:]\n",
    "    print(cluster.shape)\n",
    "    diff = np.abs(cluster-x_bar)\n",
    "    sum_diff = diff.sum(axis=0)\n",
    "    sum_diff_rank = (rankdata(-sum_diff, method='ordinal')-1).astype(int)\n",
    "    get_indices = np.where(sum_diff_rank < 10)[0]\n",
    "    print('top ten words for cluster label: ' + str(cluster_label))\n",
    "    print(vocab[get_indices])\n",
    "    cluster_x_bar = cluster.mean(axis=0)\n",
    "    #print(cluster_x_bar.shape)\n",
    "    diff = np.abs(cluster-cluster_x_bar)\n",
    "    #print(diff.shape)\n",
    "    sum_diff = diff.sum(axis=1)\n",
    "    #print(sum_diff)\n",
    "    #print(sum_diff.shape)\n",
    "    sum_diff_rank = (rankdata(sum_diff, method='ordinal')-1).astype(int)\n",
    "    get_indices = np.where(sum_diff_rank < 10)[0]\n",
    "    #print(get_indices)\n",
    "    print('top ten titles for cluster label: ' + str(cluster_label))\n",
    "    print(titles[get_indices])   \n",
    "    print('')\n",
    "    "
   ]
  },
  {
   "cell_type": "code",
   "execution_count": 16,
   "metadata": {},
   "outputs": [
    {
     "data": {
      "text/plain": [
       "'\\nComment on these results. \\nThe kmeans algorithm is sensitive to k. I tried multiple k values.\\nSome k-values like k = 20 resulted in very small clusters with a handful of documents each.\\nI tried multiple k values and found one that gave intuitive results.\\n\\nWhat has the algorithm captured? \\nThe algorithm captures a few obvious categories: One being biology science realted (cluster 3).\\nThe other being physics related (cluster 1)\\n\\nThis algorithm feature space is less useful for finding good titles - the terms are well classified though.\\n\\nHow might such an algorithm be useful?\\nIt would be useful in unsupervised topic modeling or document classification. \\nThis would work in cases where labels are not present or difficult to obtain.\\n'"
      ]
     },
     "execution_count": 16,
     "metadata": {},
     "output_type": "execute_result"
    }
   ],
   "source": [
    "\"\"\"\n",
    "Comment on these results. \n",
    "The kmeans algorithm is sensitive to k. I tried multiple k values.\n",
    "Some k-values like k = 20 resulted in very small clusters with a handful of documents each.\n",
    "I tried multiple k values and found one that gave intuitive results.\n",
    "\n",
    "What has the algorithm captured? \n",
    "The algorithm captures a few obvious categories: One being biology science realted (cluster 3).\n",
    "The other being physics related (cluster 1)\n",
    "\n",
    "This algorithm feature space is less useful for finding good titles - the terms are well classified though.\n",
    "\n",
    "How might such an algorithm be useful?\n",
    "It would be useful in unsupervised topic modeling or document classification. \n",
    "This would work in cases where labels are not present or difficult to obtain.\n",
    "\"\"\""
   ]
  },
  {
   "cell_type": "code",
   "execution_count": 17,
   "metadata": {},
   "outputs": [],
   "source": [
    "#b"
   ]
  },
  {
   "cell_type": "code",
   "execution_count": 19,
   "metadata": {},
   "outputs": [
    {
     "name": "stdout",
     "output_type": "stream",
     "text": [
      "(5476, 1373)\n"
     ]
    }
   ],
   "source": [
    "X = np.load(\"science2k-word-doc.npy\")\n",
    "print(X.shape)"
   ]
  },
  {
   "cell_type": "code",
   "execution_count": 20,
   "metadata": {},
   "outputs": [
    {
     "name": "stdout",
     "output_type": "stream",
     "text": [
      "1\n",
      "[0 0 0 ... 0 0 0]\n",
      "2\n",
      "[1 1 0 ... 0 0 0]\n",
      "3\n",
      "[1 1 2 ... 2 2 2]\n",
      "4\n",
      "[1 1 3 ... 3 3 3]\n",
      "5\n",
      "[3 3 3 ... 3 3 3]\n",
      "6\n",
      "[0 3 2 ... 2 2 2]\n",
      "7\n",
      "[5 5 1 ... 1 1 1]\n",
      "8\n",
      "[3 2 6 ... 6 6 6]\n",
      "9\n",
      "[3 0 8 ... 8 8 8]\n",
      "10\n",
      "[8 1 0 ... 0 0 0]\n",
      "11\n",
      "[7 3 8 ... 8 8 8]\n",
      "12\n",
      "[2 9 7 ... 7 7 7]\n",
      "13\n",
      "[6 4 0 ... 0 0 0]\n",
      "14\n",
      "[ 4 12  5 ...  5  5  5]\n",
      "15\n",
      "[ 8 11 12 ... 12 12 12]\n",
      "16\n",
      "[ 4  1 10 ... 10 10 10]\n",
      "17\n",
      "[ 8  7  5 ...  5 14 14]\n",
      "18\n",
      "[14  8  1 ...  1  1  1]\n",
      "19\n",
      "[14  7  8 ...  1  1  1]\n",
      "20\n",
      "[10 14  9 ...  9  9  9]\n"
     ]
    }
   ],
   "source": [
    "for k in range(1,21):\n",
    "    kmeans = KMeans(n_clusters=k,n_init=2, max_iter=2, random_state=0).fit(X)\n",
    "    print(k)\n",
    "    print(kmeans.labels_)\n",
    "    #break # comment out to run in full (takes a while)"
   ]
  },
  {
   "cell_type": "code",
   "execution_count": 21,
   "metadata": {},
   "outputs": [
    {
     "data": {
      "text/plain": [
       "'\\nSelect a value of k. \\n\\n\\nFor that value, report the top 10 words of each cluster in order of the largest positive distance\\nfrom the average value across all data. More specifically, if x is the 5476-vector of average\\nvalues across documents and m i is the i th mean, report the words associated with the top\\ncomponents in m i − x. Report the top ten documents that fall closest to each cluster center.\\nYou can find the titles in the science2k-titles.dat file.\\n'"
      ]
     },
     "execution_count": 21,
     "metadata": {},
     "output_type": "execute_result"
    }
   ],
   "source": [
    "\"\"\"\n",
    "Select a value of k. \n",
    "\n",
    "\n",
    "For that value, report the top 10 words of each cluster in order of the largest positive distance\n",
    "from the average value across all data. More specifically, if x is the 5476-vector of average\n",
    "values across documents and m i is the i th mean, report the words associated with the top\n",
    "components in m i − x. Report the top ten documents that fall closest to each cluster center.\n",
    "You can find the titles in the science2k-titles.dat file.\n",
    "\"\"\""
   ]
  },
  {
   "cell_type": "code",
   "execution_count": 22,
   "metadata": {},
   "outputs": [],
   "source": [
    "kmeans = KMeans(n_clusters=6, n_init=60,max_iter=600, random_state=0).fit(X)"
   ]
  },
  {
   "cell_type": "code",
   "execution_count": 23,
   "metadata": {},
   "outputs": [
    {
     "data": {
      "text/plain": [
       "(1373,)"
      ]
     },
     "execution_count": 23,
     "metadata": {},
     "output_type": "execute_result"
    }
   ],
   "source": [
    "x_bar = X.mean(axis=0)\n",
    "x_bar.shape"
   ]
  },
  {
   "cell_type": "code",
   "execution_count": 24,
   "metadata": {},
   "outputs": [
    {
     "name": "stdout",
     "output_type": "stream",
     "text": [
      "(293, 1373)\n",
      "top ten titles for cluster label: 0\n",
      "['Crystal Structure of the Ribonucleoprotein Core of the Signal Recognition Particle'\n",
      " 'The Genome Sequence of Drosophila melanogaster'\n",
      " 'Comparative Genomics of the Eukaryotes'\n",
      " 'Positional Syntenic Cloning and Functional Characterization of the Mammalian Circadian Mutation tau'\n",
      " 'A Structural Framework for Deciphering the Link between <latex>$I-A^{g7}$</latex> and Autoimmune Diabetes'\n",
      " 'Architecture of RNA Polymerase II and Implications for the Transcription Mechanism'\n",
      " 'Three-Dimensional Structure of the Tn5 Synaptic Complex Transposition Intermediate'\n",
      " 'The Complete Atomic Structure of the Large Ribosomal Subunit at 2.4 <latex>$\\\\AA$</latex> Resolution'\n",
      " 'The Structural Basis of Ribosome Activity in Peptide Bond Synthesis'\n",
      " 'Accumulation of Dietary Cholesterol in Sitosterolemia Caused by Mutations in Adjacent ABC Transporters']\n",
      "top ten words for cluster label: 0\n",
      "['major' 'individual' 'north' 'groups' 'behavior' 'observations' 'res'\n",
      " 'virus' 'properties' 'space']\n",
      "\n",
      "(603, 1373)\n",
      "top ten titles for cluster label: 1\n",
      "['The Formation and Early Evolution of the Milky Way Galaxy'\n",
      " 'The Galactic Center: An Interacting System of Unusual Sources'\n",
      " 'The Atom-Cavity Microscope: Single Atoms Bound in Orbit by Single Photons'\n",
      " 'Advances in the Physics of High-Temperature Superconductivity'\n",
      " 'Quantum Criticality: Competing Ground States in Low Dimensions'\n",
      " 'Status and Improvements of Coupled General Circulation Models'\n",
      " \"Earth's Core and the Geodynamo\"\n",
      " 'NEAR at Eros: Imaging and Spectral Results'\n",
      " 'Subduction and Slab Detachment in the Mediterranean-Carpathian Region'\n",
      " 'Sedimentary Rocks of Early Mars']\n",
      "top ten words for cluster label: 1\n",
      "['cells' 'examined' 'record' 'substrate' 'air' 'volume' 'remains' 'laser'\n",
      " 'york' 'rapid']\n",
      "\n",
      "(96, 1373)\n",
      "top ten titles for cluster label: 2\n",
      "['Distal Initiation and Active Propagation of Action Potentials in Interneuron Dendrites'\n",
      " 'Signaling and Circuitry of Multiple MAPK Pathways Revealed by a Matrix of Global Gene Expression Profiles'\n",
      " 'The Outcome of Acute Hepatitis C Predicted by the Evolution of the Viral Quasispecies'\n",
      " 'Reduction of Tropical Cloudiness by Soot'\n",
      " 'Rocks from the Mantle Transition Zone: Majorite-Bearing Xenoliths from Malaita, Southwest Pacific'\n",
      " 'Timing the Ancestor of the HIV-1 Pandemic Strains'\n",
      " 'Causes of Climate Change over the past 1000 Years'\n",
      " 'Climate Impact of Late Quaternary Equatorial Pacific Sea Surface Temperature Variations'\n",
      " 'NEAR at Eros: Imaging and Spectral Results'\n",
      " 'The Elemental Composition of Asteroid 433 Eros: Results of the NEAR-Shoemaker X-ray Spectrometer']\n",
      "top ten words for cluster label: 2\n",
      "['cells' 'two' 'studies' 'change' 'year' 'see' 'domain' 'early' 'density'\n",
      " 'important']\n",
      "\n",
      "(3519, 1373)\n",
      "top ten titles for cluster label: 3\n",
      "['The Genome Sequence of Drosophila melanogaster'\n",
      " 'A Whole-Genome Assembly of Drosophila'\n",
      " 'Comparative Genomics of the Eukaryotes' 'A Mouse Chronology'\n",
      " 'Infectious History'\n",
      " 'The Complete Atomic Structure of the Large Ribosomal Subunit at 2.4 <latex>$\\\\AA$</latex> Resolution'\n",
      " 'Breaking down Scientific Barriers to the Study of Brain and Mind'\n",
      " 'Atom-Scale Research Gets Real' 'Sedimentary Rocks of Early Mars'\n",
      " 'Breakthrough of the Year: Genomics Comes of Age']\n",
      "top ten words for cluster label: 3\n",
      "['readily' 'doping' 'lenti' 'jnk3' 'mtdna' 'vacuum' 'argue' 'cd9'\n",
      " 'reaches' 'galileo']\n",
      "\n",
      "(644, 1373)\n",
      "top ten titles for cluster label: 4\n",
      "['Ecologists on a Mission to Save the World' 'Meltdown on Long Island'\n",
      " 'A Mouse Chronology' 'Clones: A Hard Act to Follow'\n",
      " 'Presidential Forum: Gore and Bush Offer Their Views on Science'\n",
      " 'Help Needed to Rebuild Science in Yugoslavia'\n",
      " \"Silent No Longer: 'Model Minority' Mobilizes\"\n",
      " 'Atom-Scale Research Gets Real'\n",
      " 'Breakthrough of the Year: Genomics Comes of Age'\n",
      " \"I'd like to See America Used as a Global Lab\"]\n",
      "top ten words for cluster label: 4\n",
      "['followed' 'remains' 'variations' 'ray' 'limited' 'nucleus' 'depth'\n",
      " 'school' 'good' 'fluorescence']\n",
      "\n",
      "(321, 1373)\n",
      "top ten titles for cluster label: 5\n",
      "['Function of PI3Kg in Thymocyte Development, T Cell Activation, and Neutrophil Migration'\n",
      " 'Central Role for G Protein-Coupled Phosphoinositide 3-Kinase g in Inflammation'\n",
      " 'An Oral Vaccine against NMDAR1 with Efficacy in Experimental Stroke and Epilepsy'\n",
      " 'Requirement of JNK for Stress-Induced Activation of the Cytochrome c-Mediated Death Pathway'\n",
      " 'Ubiquitin Protein Ligase Activity of IAPs and Their Degradation in Proteasomes in Response to Apoptotic Stimuli'\n",
      " 'Noxa, a BH3-Only Member of the Bcl-2 Family and Candidate Mediator of p53-Induced Apoptosis'\n",
      " 'Kinesin Superfamily Motor Protein KIF17 and mLin-10 in NMDA Receptor-Containing Vesicle Transport'\n",
      " 'Requirement for RORg in Thymocyte Survival and Lymphoid Organ Development'\n",
      " 'Cytochrome c Release and Apoptosis Induced by Mitochondrial Targeting of Nuclear Orphan Receptor TR3'\n",
      " 'Regulated Cleavage of a Contact-Mediated Axon Repellent']\n",
      "top ten words for cluster label: 5\n",
      "['references' 'laboratory' 'materials' 'formed' 'additional'\n",
      " 'concentration' 'loss' 'plant' 'images' 'performed']\n",
      "\n"
     ]
    }
   ],
   "source": [
    "for cluster_label in np.unique(kmeans.labels_):\n",
    "    #print(cluster_label)\n",
    "    cluster = X[(kmeans.labels_==cluster_label),:]\n",
    "    print(cluster.shape)\n",
    "    diff = np.abs(cluster-x_bar)\n",
    "    sum_diff = diff.sum(axis=0)\n",
    "    sum_diff_rank = (rankdata(-sum_diff, method='ordinal')-1).astype(int)\n",
    "    get_indices = np.where(sum_diff_rank < 10)[0]\n",
    "    print('top ten titles for cluster label: ' + str(cluster_label))\n",
    "    print(titles[get_indices])\n",
    "    cluster_x_bar = cluster.mean(axis=0)\n",
    "    #print(cluster_x_bar.shape)\n",
    "    diff = np.abs(cluster-cluster_x_bar)\n",
    "    #print(diff.shape)\n",
    "    sum_diff = diff.sum(axis=1)\n",
    "    #print(sum_diff)\n",
    "    #print(sum_diff.shape)\n",
    "    sum_diff_rank = (rankdata(sum_diff, method='ordinal')-1).astype(int)\n",
    "    get_indices = np.where(sum_diff_rank < 10)[0]\n",
    "    #print(get_indices)\n",
    "    print('top ten words for cluster label: ' + str(cluster_label))\n",
    "    print(vocab[get_indices])   \n",
    "    print('')\n",
    "    "
   ]
  },
  {
   "cell_type": "code",
   "execution_count": 25,
   "metadata": {},
   "outputs": [
    {
     "data": {
      "text/plain": [
       "'\\n(b) The file science2k-word-doc.txt is similar, but capture term-wise rather than document-\\nwise features. That is, for each term, we count the frequency as the number of documents that\\nterm appears in rather than the other way around. This allows us to characterize individual\\nterms.\\nHad to switch some code from part 1a since now our titles and terms are reversed to do lookups.\\n\\n\\nThis matrix is 5476×1373, where each row is a term in Science described by 1373 “document”\\nfeatures. These are transformed document frequencies (as above).\\n\\n\\nRepeat the analysis above, but cluster terms instead of documents. \\nDone above\\n\\n\\nComment on these results. \\nThere are more terms (rows) compared to independent documents (columns). \\nIn 1b) we have less columns and more rows.\\nThe titles seem better clustered compared to the terms. \\n\\nHow might such an algorithm be useful? \\nThis algorithm is more useful to create homogeneous title clusters compared to before 1a.\\nThe index and inverse index methods are useful in large scale classification problems. \\nUsing both the index and inverse index allows for large scale classification when there are both \\nbillions of rows and billions of columns. \\n\\nWhat is different about clustering terms from clustering documents?\\nClustering terms in the document space produces document title clusters that seem more intuitive similiar.\\n\\nNow terms are classified that have the same feature space of document presenence. \\n\\nSuppose term A and term B are found in exactly the same documents and not found in exactly the same documents.\\nThese terms would share the same cluster in 1b) but not necessarily the case in 1a)\\nThis is because in 1a) a document can contain more than just term A and term B. \\n\\nBoth these steps can be used for something like an EM algorithm to produce better clusters. \\n'"
      ]
     },
     "execution_count": 25,
     "metadata": {},
     "output_type": "execute_result"
    }
   ],
   "source": [
    "\"\"\"\n",
    "(b) The file science2k-word-doc.txt is similar, but capture term-wise rather than document-\n",
    "wise features. That is, for each term, we count the frequency as the number of documents that\n",
    "term appears in rather than the other way around. This allows us to characterize individual\n",
    "terms.\n",
    "Had to switch some code from part 1a since now our titles and terms are reversed to do lookups.\n",
    "\n",
    "\n",
    "This matrix is 5476×1373, where each row is a term in Science described by 1373 “document”\n",
    "features. These are transformed document frequencies (as above).\n",
    "\n",
    "\n",
    "Repeat the analysis above, but cluster terms instead of documents. \n",
    "Done above\n",
    "\n",
    "\n",
    "Comment on these results. \n",
    "There are more terms (rows) compared to independent documents (columns). \n",
    "In 1b) we have less columns and more rows.\n",
    "The titles seem better clustered compared to the terms. \n",
    "\n",
    "How might such an algorithm be useful? \n",
    "This algorithm is more useful to create homogeneous title clusters compared to before 1a.\n",
    "The index and inverse index methods are useful in large scale classification problems. \n",
    "Using both the index and inverse index allows for large scale classification when there are both \n",
    "billions of rows and billions of columns. \n",
    "\n",
    "What is different about clustering terms from clustering documents?\n",
    "Clustering terms in the document space produces document title clusters that seem more intuitive similiar.\n",
    "\n",
    "Now terms are classified that have the same feature space of document presenence. \n",
    "\n",
    "Suppose term A and term B are found in exactly the same documents and not found in exactly the same documents.\n",
    "These terms would share the same cluster in 1b) but not necessarily the case in 1a)\n",
    "This is because in 1a) a document can contain more than just term A and term B. \n",
    "\n",
    "Both these steps can be used for something like an EM algorithm to produce better clusters. \n",
    "\"\"\""
   ]
  },
  {
   "cell_type": "code",
   "execution_count": 26,
   "metadata": {},
   "outputs": [],
   "source": [
    "#Problem 2"
   ]
  },
  {
   "cell_type": "code",
   "execution_count": 27,
   "metadata": {},
   "outputs": [],
   "source": [
    "#a"
   ]
  },
  {
   "cell_type": "markdown",
   "metadata": {},
   "source": [
    "K-means as EM\n",
    "\n",
    "E-step: Fix means of each cluster, optimize the assignment of points to clusters.\n",
    "\n",
    "M-step: Fix assignment of points to clusters, optimize the means of each cluster."
   ]
  },
  {
   "cell_type": "markdown",
   "metadata": {},
   "source": [
    "$ Expectation \\sum_{j=1}^n \\min_{C(j)} ||\\mu_{C(j)} - x_{j}||^2 $\n",
    "\n",
    "^ Adjust cluster assignment given fixed cluster means"
   ]
  },
  {
   "cell_type": "markdown",
   "metadata": {},
   "source": [
    "$ Maximization  \\sum_{j=1}^n \\min_{\\mu_j} ||\\mu_{j} - x_{j}||^2 $\n",
    "\n",
    "^ Adjust cluster means given fixed assignment of points to clusters"
   ]
  },
  {
   "cell_type": "markdown",
   "metadata": {},
   "source": [
    "The K-means algorithm is a GMM (solved via EM) with fixed covariance matrix to the identity matrix. \n",
    "Do not update covariance matrix at any step. \n",
    "During the Expectation step of adjusting cluster assignment, only allow for hard membership {0,1} probabilities (responsibilities). \n",
    "E.g. a point can be part of a cluster or not rather than having continuous probabilities like 0.33. Objective function of k-means is distance based rather than log liklihood."
   ]
  },
  {
   "cell_type": "code",
   "execution_count": 28,
   "metadata": {},
   "outputs": [],
   "source": [
    "import pandas as pd\n",
    "import numpy as np\n",
    "\n",
    "from sklearn.cluster import KMeans\n",
    "\n",
    "np.random.seed(0)"
   ]
  },
  {
   "cell_type": "code",
   "execution_count": 29,
   "metadata": {},
   "outputs": [
    {
     "data": {
      "text/html": [
       "<div>\n",
       "<style scoped>\n",
       "    .dataframe tbody tr th:only-of-type {\n",
       "        vertical-align: middle;\n",
       "    }\n",
       "\n",
       "    .dataframe tbody tr th {\n",
       "        vertical-align: top;\n",
       "    }\n",
       "\n",
       "    .dataframe thead th {\n",
       "        text-align: right;\n",
       "    }\n",
       "</style>\n",
       "<table border=\"1\" class=\"dataframe\">\n",
       "  <thead>\n",
       "    <tr style=\"text-align: right;\">\n",
       "      <th></th>\n",
       "      <th>eruptions</th>\n",
       "      <th>waiting</th>\n",
       "    </tr>\n",
       "  </thead>\n",
       "  <tbody>\n",
       "    <tr>\n",
       "      <th>0</th>\n",
       "      <td>3.600</td>\n",
       "      <td>79</td>\n",
       "    </tr>\n",
       "    <tr>\n",
       "      <th>1</th>\n",
       "      <td>1.800</td>\n",
       "      <td>54</td>\n",
       "    </tr>\n",
       "    <tr>\n",
       "      <th>2</th>\n",
       "      <td>3.333</td>\n",
       "      <td>74</td>\n",
       "    </tr>\n",
       "  </tbody>\n",
       "</table>\n",
       "</div>"
      ],
      "text/plain": [
       "   eruptions  waiting\n",
       "0      3.600       79\n",
       "1      1.800       54\n",
       "2      3.333       74"
      ]
     },
     "execution_count": 29,
     "metadata": {},
     "output_type": "execute_result"
    }
   ],
   "source": [
    "df = pd.read_csv('faithful.csv')\n",
    "df.drop('Unnamed: 0', inplace=True, axis=1)\n",
    "\n",
    "\"\"\"\n",
    "(b) Download the Old Faithful Geyser Dataset. The data file contains 272 observations of (erup-\n",
    "tion time, waiting time). Treat each entry as a 2 dimensional feature vector. Parse and plot all\n",
    "data points on 2-D plane.\n",
    "\"\"\"\n",
    "df.head(3)"
   ]
  },
  {
   "cell_type": "code",
   "execution_count": 30,
   "metadata": {},
   "outputs": [
    {
     "data": {
      "text/plain": [
       "<matplotlib.axes._subplots.AxesSubplot at 0x11e8db280>"
      ]
     },
     "execution_count": 30,
     "metadata": {},
     "output_type": "execute_result"
    },
    {
     "data": {
      "image/png": "[encoded data removed]",
      "text/plain": [
       "<Figure size 432x288 with 1 Axes>"
      ]
     },
     "metadata": {
      "needs_background": "light"
     },
     "output_type": "display_data"
    }
   ],
   "source": [
    "df.plot.scatter(x='eruptions',y='waiting')"
   ]
  },
  {
   "cell_type": "code",
   "execution_count": 31,
   "metadata": {},
   "outputs": [
    {
     "data": {
      "text/plain": [
       "'\\n(c) Implement a bimodal GMM model to fit all data points using EM algorithm. Explain the rea-\\nsoning behind your termination criteria. For this problem, we assume the covariance matrix\\nis spherical (i.e., it has the form of σ 2 I for scalar σ) and you can randomly initialize Gaussian\\nparameters. For evaluation purposes, please submit the following figures:\\n\\n\\nExplain the reasoning behind your termination criteria.\\nMy code terminates when the last two iterations have a total delta absolute \\nchange in cluster centers less than tolerance.\\nThis works because the tolerance is much less than 1 standard dev of entire set,\\nand there are only two clusters.\\n\\nIdeal implementation would also \\nconsider loglikelihood rate of change slows down and is small relative to some tolerance value.\\n\\n'"
      ]
     },
     "execution_count": 31,
     "metadata": {},
     "output_type": "execute_result"
    }
   ],
   "source": [
    "\"\"\"\n",
    "(c) Implement a bimodal GMM model to fit all data points using EM algorithm. Explain the rea-\n",
    "soning behind your termination criteria. For this problem, we assume the covariance matrix\n",
    "is spherical (i.e., it has the form of σ 2 I for scalar σ) and you can randomly initialize Gaussian\n",
    "parameters. For evaluation purposes, please submit the following figures:\n",
    "\n",
    "\n",
    "Explain the reasoning behind your termination criteria.\n",
    "My code terminates when the last two iterations have a total delta absolute \n",
    "change in cluster centers less than tolerance.\n",
    "This works because the tolerance is much less than 1 standard dev of entire set,\n",
    "and there are only two clusters.\n",
    "\n",
    "Ideal implementation would also \n",
    "consider loglikelihood rate of change slows down and is small relative to some tolerance value.\n",
    "\n",
    "\"\"\""
   ]
  },
  {
   "cell_type": "code",
   "execution_count": 32,
   "metadata": {},
   "outputs": [
    {
     "data": {
      "text/plain": [
       "(272, 2)"
      ]
     },
     "execution_count": 32,
     "metadata": {},
     "output_type": "execute_result"
    }
   ],
   "source": [
    "def get_ll(x,mu,sigma):\n",
    "    t1 = - np.log(sigma)\n",
    "    t2 =  - np.log(2*np.pi)/2\n",
    "    t3 = - 0.5*((x-mu)/sigma)**2\n",
    "    return t1 + t2 + t3\n",
    "\n",
    "\n",
    "\n",
    "X = df[['eruptions','waiting']].values\n",
    "X.shape"
   ]
  },
  {
   "cell_type": "code",
   "execution_count": 33,
   "metadata": {},
   "outputs": [],
   "source": [
    "np.random.seed(1)\n",
    "init1 = ((df['eruptions'].sample(frac=1, replace=True).mean(),\n",
    "         df['waiting'].sample(frac=1, replace=True).mean()),\n",
    "         (df['eruptions'].sample(frac=1, replace=True).std(),\n",
    "         df['waiting'].sample(frac=1, replace=True).std()))\n",
    "\n",
    "\n",
    "init2 = ((df['eruptions'].sample(frac=1, replace=False).mean(),\n",
    "         df['waiting'].sample(frac=1, replace=False).mean()),\n",
    "         (df['eruptions'].sample(frac=1, replace=False).std(),\n",
    "         df['waiting'].sample(frac=1, replace=False).std()))\n",
    "\n",
    "#prior_class = 0.5\n",
    "\n",
    "mean_vec_list = [(init1,init2)]\n",
    "converge_tol = 0.001\n",
    "steps = 0\n",
    "delta = 1\n",
    "#weights = np.array([1]*len(X))\n",
    "while delta > converge_tol:\n",
    "    #print(prob_list)\n",
    "    # e-step Adjust cluster assignment given fixed cluster means\n",
    "    mu0 = mean_vec_list[steps][0][0][0]\n",
    "    mu1 = mean_vec_list[steps][0][0][1]\n",
    "    s0 = mean_vec_list[steps][0][1][0]\n",
    "    s1 = mean_vec_list[steps][0][1][1]\n",
    "    l0_vec = get_ll(X[:,0],mu0,s0)\n",
    "    l1_vec = get_ll(X[:,1],mu1,s1)\n",
    "    r0 = (l0_vec+l1_vec)/2\n",
    "    \n",
    "    # steps,cluster,mean,dim\n",
    "    mu0 = mean_vec_list[steps][1][0][0]\n",
    "    mu1 = mean_vec_list[steps][1][0][1]\n",
    "    s0 = mean_vec_list[steps][1][1][0]\n",
    "    s1 = mean_vec_list[steps][1][1][1]\n",
    "    l0_vec = get_ll(X[:,0],mu0,s0)\n",
    "    l1_vec = get_ll(X[:,1],mu1,s1)\n",
    "    r1 = (l0_vec+l1_vec)/2\n",
    "    \n",
    "    # normalize\n",
    "    r0 = np.exp(r0)/(np.exp(r0)+np.exp(r1))\n",
    "    r1 = 1-r0\n",
    "    color_vector = np.argmax(np.vstack((r0,r1)),axis=0)\n",
    "    #print(r0)\n",
    "    #print(r1)\n",
    "    # m-step - update params\n",
    "    # cluster0\n",
    "    rsum = np.sum(r0)\n",
    "    m0 = np.sum(r0*X[:,0])/rsum\n",
    "    s0 = np.sqrt(np.sum(r0*(X[:,0]-m0)**2)/rsum)\n",
    "    \n",
    "    m1 = np.sum(r0*X[:,1])/rsum\n",
    "    s1 = np.sqrt(np.sum(r0*(X[:,1]-m1)**2)/rsum)\n",
    "    tup0 = ((m0,m1),(s0,s1))\n",
    "       \n",
    "    #cluster1\n",
    "    rsum = np.sum(r1)\n",
    "    m0 = np.sum(r1*X[:,0])/rsum\n",
    "    s0 = np.sqrt(np.sum(r1*(X[:,0]-m0)**2)/rsum)\n",
    "    \n",
    "    m1 = np.sum(r1*X[:,1])/rsum\n",
    "    s1 = np.sqrt(np.sum(r1*(X[:,1]-m1)**2)/rsum)\n",
    "    tup1 = ((m0,m1),(s0,s1))\n",
    "    mean_vec_list.append((tup0,tup1))\n",
    "\n",
    "    steps += 1\n",
    "    \n",
    "    # check delta of mu (not sigma) values. \n",
    "    delta1 = np.abs(mean_vec_list[-2][0][0][0]-mean_vec_list[-1][0][0][0]) \n",
    "    delta2 =  np.abs(mean_vec_list[-2][1][0][0]-mean_vec_list[-1][1][0][0])\n",
    "    delta3 = np.abs(mean_vec_list[-2][0][0][1]-mean_vec_list[-1][0][0][1]) \n",
    "    delta4 =  np.abs(mean_vec_list[-2][1][0][1]-mean_vec_list[-1][1][0][1])\n",
    "    delta = delta1+delta2+delta3+delta4\n",
    "    #print(delta)\n",
    "    #if steps > 5:\n",
    "    #    break\n",
    "            \n",
    "    "
   ]
  },
  {
   "cell_type": "code",
   "execution_count": 34,
   "metadata": {},
   "outputs": [
    {
     "data": {
      "text/plain": [
       "'\\nPlot the trajectories of two mean vectors in 2 dimensions (i.e., coordinates vs. iteration)\\n'"
      ]
     },
     "execution_count": 34,
     "metadata": {},
     "output_type": "execute_result"
    }
   ],
   "source": [
    "\"\"\"\n",
    "Plot the trajectories of two mean vectors in 2 dimensions (i.e., coordinates vs. iteration)\n",
    "\"\"\""
   ]
  },
  {
   "cell_type": "code",
   "execution_count": 35,
   "metadata": {},
   "outputs": [
    {
     "name": "stdout",
     "output_type": "stream",
     "text": [
      "done\n"
     ]
    }
   ],
   "source": [
    "t1 = []\n",
    "t2 = []\n",
    "t3 = []\n",
    "t4 = []\n",
    "for j in range(len(mean_vec_list)):\n",
    "    c1_x = mean_vec_list[j][0][0][0]\n",
    "    c1_y = mean_vec_list[j][0][0][1]\n",
    "    \n",
    "    c2_x = mean_vec_list[j][1][0][0]\n",
    "    c2_y = mean_vec_list[j][1][0][1]\n",
    "    \n",
    "    t1.append(c1_x)\n",
    "    t2.append(c1_y)\n",
    "    t3.append(c2_x)\n",
    "    t4.append(c2_y)\n",
    "print('done')\n",
    "    "
   ]
  },
  {
   "cell_type": "code",
   "execution_count": 36,
   "metadata": {},
   "outputs": [
    {
     "data": {
      "text/plain": [
       "<matplotlib.axes._subplots.AxesSubplot at 0x11e9c0730>"
      ]
     },
     "execution_count": 36,
     "metadata": {},
     "output_type": "execute_result"
    },
    {
     "data": {
      "image/png": "[encoded data removed]",
      "text/plain": [
       "<Figure size 432x288 with 1 Axes>"
      ]
     },
     "metadata": {
      "needs_background": "light"
     },
     "output_type": "display_data"
    }
   ],
   "source": [
    "pd.Series(t1).plot()"
   ]
  },
  {
   "cell_type": "code",
   "execution_count": 37,
   "metadata": {},
   "outputs": [
    {
     "data": {
      "text/plain": [
       "<matplotlib.axes._subplots.AxesSubplot at 0x11dc3cb80>"
      ]
     },
     "execution_count": 37,
     "metadata": {},
     "output_type": "execute_result"
    },
    {
     "data": {
      "image/png": "[encoded data removed]",
      "text/plain": [
       "<Figure size 432x288 with 1 Axes>"
      ]
     },
     "metadata": {
      "needs_background": "light"
     },
     "output_type": "display_data"
    }
   ],
   "source": [
    "pd.Series(t2).plot()"
   ]
  },
  {
   "cell_type": "code",
   "execution_count": 38,
   "metadata": {},
   "outputs": [
    {
     "data": {
      "text/plain": [
       "<matplotlib.axes._subplots.AxesSubplot at 0x11dbdf9d0>"
      ]
     },
     "execution_count": 38,
     "metadata": {},
     "output_type": "execute_result"
    },
    {
     "data": {
      "image/png": "[encoded data removed]",
      "text/plain": [
       "<Figure size 432x288 with 1 Axes>"
      ]
     },
     "metadata": {
      "needs_background": "light"
     },
     "output_type": "display_data"
    }
   ],
   "source": [
    "pd.Series(t3).plot()"
   ]
  },
  {
   "cell_type": "code",
   "execution_count": 39,
   "metadata": {},
   "outputs": [
    {
     "data": {
      "text/plain": [
       "<matplotlib.axes._subplots.AxesSubplot at 0x11dc6da60>"
      ]
     },
     "execution_count": 39,
     "metadata": {},
     "output_type": "execute_result"
    },
    {
     "data": {
      "image/png": "[encoded data removed]",
      "text/plain": [
       "<Figure size 432x288 with 1 Axes>"
      ]
     },
     "metadata": {
      "needs_background": "light"
     },
     "output_type": "display_data"
    }
   ],
   "source": [
    "pd.Series(t4).plot()"
   ]
  },
  {
   "cell_type": "code",
   "execution_count": 40,
   "metadata": {},
   "outputs": [
    {
     "data": {
      "text/plain": [
       "<matplotlib.axes._subplots.AxesSubplot at 0x1213180d0>"
      ]
     },
     "execution_count": 40,
     "metadata": {},
     "output_type": "execute_result"
    },
    {
     "data": {
      "image/png": "[encoded data removed]",
      "text/plain": [
       "<Figure size 432x288 with 2 Axes>"
      ]
     },
     "metadata": {
      "needs_background": "light"
     },
     "output_type": "display_data"
    }
   ],
   "source": [
    "df['color'] = 'red'\n",
    "df.loc[color_vector==0,'color'] = 'blue'\n",
    "df.plot.scatter(x='eruptions',y='waiting',c='color')"
   ]
  },
  {
   "cell_type": "code",
   "execution_count": 41,
   "metadata": {},
   "outputs": [
    {
     "data": {
      "text/plain": [
       "'\\n\\nRun your program for 50 times with different initial parameter guesses. Show the distri-\\nbution of the total number of iterations needed for algorithm to converge.\\n'"
      ]
     },
     "execution_count": 41,
     "metadata": {},
     "output_type": "execute_result"
    }
   ],
   "source": [
    "\"\"\"\n",
    "\n",
    "Run your program for 50 times with different initial parameter guesses. Show the distri-\n",
    "bution of the total number of iterations needed for algorithm to converge.\n",
    "\"\"\""
   ]
  },
  {
   "cell_type": "code",
   "execution_count": 42,
   "metadata": {},
   "outputs": [
    {
     "name": "stdout",
     "output_type": "stream",
     "text": [
      "done\n"
     ]
    }
   ],
   "source": [
    "total_iter_list = []\n",
    "for rseed in range(1,51):\n",
    "    np.random.seed(rseed)\n",
    "    init1 = ((df['eruptions'].sample(frac=1, replace=True).mean(),\n",
    "             df['waiting'].sample(frac=1, replace=True).mean()),\n",
    "             (df['eruptions'].sample(frac=1, replace=True).std(),\n",
    "             df['waiting'].sample(frac=1, replace=True).std()))\n",
    "\n",
    "\n",
    "    init2 = ((df['eruptions'].sample(frac=1, replace=False).mean(),\n",
    "             df['waiting'].sample(frac=1, replace=False).mean()),\n",
    "             (df['eruptions'].sample(frac=1, replace=False).std(),\n",
    "             df['waiting'].sample(frac=1, replace=False).std()))\n",
    "\n",
    "    #prior_class = 0.5\n",
    "\n",
    "    mean_vec_list = [(init1,init2)]\n",
    "    converge_tol = 0.001\n",
    "    steps = 0\n",
    "    delta = 1\n",
    "    #weights = np.array([1]*len(X))\n",
    "    while delta > converge_tol:\n",
    "        #print(prob_list)\n",
    "        # e-step Adjust cluster assignment given fixed cluster means\n",
    "        mu0 = mean_vec_list[steps][0][0][0]\n",
    "        mu1 = mean_vec_list[steps][0][0][1]\n",
    "        s0 = mean_vec_list[steps][0][1][0]\n",
    "        s1 = mean_vec_list[steps][0][1][1]\n",
    "        l0_vec = get_ll(X[:,0],mu0,s0)\n",
    "        l1_vec = get_ll(X[:,1],mu1,s1)\n",
    "        r0 = (l0_vec+l1_vec)/2\n",
    "\n",
    "        # steps,cluster,mean,dim\n",
    "        mu0 = mean_vec_list[steps][1][0][0]\n",
    "        mu1 = mean_vec_list[steps][1][0][1]\n",
    "        s0 = mean_vec_list[steps][1][1][0]\n",
    "        s1 = mean_vec_list[steps][1][1][1]\n",
    "        l0_vec = get_ll(X[:,0],mu0,s0)\n",
    "        l1_vec = get_ll(X[:,1],mu1,s1)\n",
    "        r1 = (l0_vec+l1_vec)/2\n",
    "\n",
    "        # normalize\n",
    "        r0 = np.exp(r0)/(np.exp(r0)+np.exp(r1))\n",
    "        r1 = 1-r0\n",
    "        color_vector = np.argmax(np.vstack((r0,r1)),axis=0)\n",
    "        #print(r0)\n",
    "        #print(r1)\n",
    "        # m-step - update params\n",
    "        # cluster0\n",
    "        rsum = np.sum(r0)\n",
    "        m0 = np.sum(r0*X[:,0])/rsum\n",
    "        s0 = np.sqrt(np.sum(r0*(X[:,0]-m0)**2)/rsum)\n",
    "\n",
    "        m1 = np.sum(r0*X[:,1])/rsum\n",
    "        s1 = np.sqrt(np.sum(r0*(X[:,1]-m1)**2)/rsum)\n",
    "        tup0 = ((m0,m1),(s0,s1))\n",
    "\n",
    "        #cluster1\n",
    "        rsum = np.sum(r1)\n",
    "        m0 = np.sum(r1*X[:,0])/rsum\n",
    "        s0 = np.sqrt(np.sum(r1*(X[:,0]-m0)**2)/rsum)\n",
    "\n",
    "        m1 = np.sum(r1*X[:,1])/rsum\n",
    "        s1 = np.sqrt(np.sum(r1*(X[:,1]-m1)**2)/rsum)\n",
    "        tup1 = ((m0,m1),(s0,s1))\n",
    "        mean_vec_list.append((tup0,tup1))\n",
    "\n",
    "        steps += 1\n",
    "\n",
    "        # check delta of mu (not sigma) values. \n",
    "        delta1 = np.abs(mean_vec_list[-2][0][0][0]-mean_vec_list[-1][0][0][0]) \n",
    "        delta2 =  np.abs(mean_vec_list[-2][1][0][0]-mean_vec_list[-1][1][0][0])\n",
    "        delta3 = np.abs(mean_vec_list[-2][0][0][1]-mean_vec_list[-1][0][0][1]) \n",
    "        delta4 =  np.abs(mean_vec_list[-2][1][0][1]-mean_vec_list[-1][1][0][1])\n",
    "        delta = delta1+delta2+delta3+delta4\n",
    "        #print(delta)\n",
    "        #if steps > 5:\n",
    "        #    break\n",
    "    total_iter_list.append(steps)\n",
    "print('done')"
   ]
  },
  {
   "cell_type": "code",
   "execution_count": 43,
   "metadata": {},
   "outputs": [
    {
     "data": {
      "text/plain": [
       "'\\nsometimes lucky random init results in < 10 iter convergence, \\nbut mostly above 40 iter convergence.\\n'"
      ]
     },
     "execution_count": 43,
     "metadata": {},
     "output_type": "execute_result"
    }
   ],
   "source": [
    "\"\"\"\n",
    "sometimes lucky random init results in < 10 iter convergence, \n",
    "but mostly above 40 iter convergence.\n",
    "\"\"\""
   ]
  },
  {
   "cell_type": "code",
   "execution_count": 44,
   "metadata": {},
   "outputs": [
    {
     "data": {
      "text/plain": [
       "<matplotlib.axes._subplots.AxesSubplot at 0x130d208e0>"
      ]
     },
     "execution_count": 44,
     "metadata": {},
     "output_type": "execute_result"
    },
    {
     "data": {
      "image/png": "[encoded data removed]",
      "text/plain": [
       "<Figure size 432x288 with 1 Axes>"
      ]
     },
     "metadata": {
      "needs_background": "light"
     },
     "output_type": "display_data"
    }
   ],
   "source": [
    "pd.Series(total_iter_list).hist()"
   ]
  },
  {
   "cell_type": "code",
   "execution_count": 45,
   "metadata": {},
   "outputs": [
    {
     "data": {
      "text/plain": [
       "'\\nCompare the algorithm performances of (c) and (d).\\n\\nK-means+MLE init is much better and more stable in general. \\nIn an edge case, the random init can result in a single class dominating.\\nThis is rare, but can happen.\\n\\nKmeansMLE init will converge faster than random in most cases.\\n\\n(d) Repeat the task in (c) but with the initial guesses of the parameters generated from the fol-\\nlowing process:\\n• Run a k-means algorithm over all the data points with K = 2 and label each point with\\none of the two clusters.\\n• Estimate the first guess of the mean and covariance matrices using maximum likelihood\\nover the labeled data points.\\n'"
      ]
     },
     "execution_count": 45,
     "metadata": {},
     "output_type": "execute_result"
    }
   ],
   "source": [
    "\"\"\"\n",
    "Compare the algorithm performances of (c) and (d).\n",
    "\n",
    "K-means+MLE init is much better and more stable in general. \n",
    "In an edge case, the random init can result in a single class dominating.\n",
    "This is rare, but can happen.\n",
    "\n",
    "KmeansMLE init will converge faster than random in most cases.\n",
    "\n",
    "(d) Repeat the task in (c) but with the initial guesses of the parameters generated from the fol-\n",
    "lowing process:\n",
    "• Run a k-means algorithm over all the data points with K = 2 and label each point with\n",
    "one of the two clusters.\n",
    "• Estimate the first guess of the mean and covariance matrices using maximum likelihood\n",
    "over the labeled data points.\n",
    "\"\"\""
   ]
  },
  {
   "cell_type": "code",
   "execution_count": 46,
   "metadata": {},
   "outputs": [
    {
     "name": "stdout",
     "output_type": "stream",
     "text": [
      "done\n"
     ]
    }
   ],
   "source": [
    "X = df[['eruptions','waiting']].values\n",
    "X.shape\n",
    "total_iter_list = []\n",
    "for rseed in range(1,51):\n",
    "    np.random.seed(rseed)\n",
    "    \n",
    "    kmeans = KMeans(n_clusters=2, n_init=30, max_iter=300, random_state=rseed).fit(X)\n",
    "    df['eruptions'][kmeans.labels_==0].mean()\n",
    "    \n",
    "    init1 = (( df['eruptions'][kmeans.labels_==0].mean(),\n",
    "              df['waiting'][kmeans.labels_==0].mean()),\n",
    "             (df['eruptions'][kmeans.labels_==0].std(),\n",
    "             df['waiting'][kmeans.labels_==0].std()))\n",
    "\n",
    "\n",
    "    init2 = (( df['eruptions'][kmeans.labels_==1].mean(),\n",
    "              df['waiting'][kmeans.labels_==1].mean()),\n",
    "             (df['eruptions'][kmeans.labels_==1].std(),\n",
    "             df['waiting'][kmeans.labels_==1].std()))\n",
    "\n",
    "    #prior_class = 0.5\n",
    "\n",
    "    mean_vec_list = [(init1,init2)]\n",
    "    converge_tol = 0.001\n",
    "    steps = 0\n",
    "    delta = 1\n",
    "    #weights = np.array([1]*len(X))\n",
    "    while delta > converge_tol:\n",
    "        #print(prob_list)\n",
    "        # e-step Adjust cluster assignment given fixed cluster means\n",
    "        mu0 = mean_vec_list[steps][0][0][0]\n",
    "        mu1 = mean_vec_list[steps][0][0][1]\n",
    "        s0 = mean_vec_list[steps][0][1][0]\n",
    "        s1 = mean_vec_list[steps][0][1][1]\n",
    "        l0_vec = get_ll(X[:,0],mu0,s0)\n",
    "        l1_vec = get_ll(X[:,1],mu1,s1)\n",
    "        r0 = (l0_vec+l1_vec)/2\n",
    "\n",
    "        # steps,cluster,mean,dim\n",
    "        mu0 = mean_vec_list[steps][1][0][0]\n",
    "        mu1 = mean_vec_list[steps][1][0][1]\n",
    "        s0 = mean_vec_list[steps][1][1][0]\n",
    "        s1 = mean_vec_list[steps][1][1][1]\n",
    "        l0_vec = get_ll(X[:,0],mu0,s0)\n",
    "        l1_vec = get_ll(X[:,1],mu1,s1)\n",
    "        r1 = (l0_vec+l1_vec)/2\n",
    "\n",
    "        # normalize\n",
    "        r0 = np.exp(r0)/(np.exp(r0)+np.exp(r1))\n",
    "        r1 = 1-r0\n",
    "        color_vector = np.argmax(np.vstack((r0,r1)),axis=0)\n",
    "        #print(r0)\n",
    "        #print(r1)\n",
    "        # m-step - update params\n",
    "        # cluster0\n",
    "        rsum = np.sum(r0)\n",
    "        m0 = np.sum(r0*X[:,0])/rsum\n",
    "        s0 = np.sqrt(np.sum(r0*(X[:,0]-m0)**2)/rsum)\n",
    "\n",
    "        m1 = np.sum(r0*X[:,1])/rsum\n",
    "        s1 = np.sqrt(np.sum(r0*(X[:,1]-m1)**2)/rsum)\n",
    "        tup0 = ((m0,m1),(s0,s1))\n",
    "\n",
    "        #cluster1\n",
    "        rsum = np.sum(r1)\n",
    "        m0 = np.sum(r1*X[:,0])/rsum\n",
    "        s0 = np.sqrt(np.sum(r1*(X[:,0]-m0)**2)/rsum)\n",
    "\n",
    "        m1 = np.sum(r1*X[:,1])/rsum\n",
    "        s1 = np.sqrt(np.sum(r1*(X[:,1]-m1)**2)/rsum)\n",
    "        tup1 = ((m0,m1),(s0,s1))\n",
    "        mean_vec_list.append((tup0,tup1))\n",
    "\n",
    "        steps += 1\n",
    "\n",
    "        # check delta of mu (not sigma) values. \n",
    "        delta1 = np.abs(mean_vec_list[-2][0][0][0]-mean_vec_list[-1][0][0][0]) \n",
    "        delta2 =  np.abs(mean_vec_list[-2][1][0][0]-mean_vec_list[-1][1][0][0])\n",
    "        delta3 = np.abs(mean_vec_list[-2][0][0][1]-mean_vec_list[-1][0][0][1]) \n",
    "        delta4 =  np.abs(mean_vec_list[-2][1][0][1]-mean_vec_list[-1][1][0][1])\n",
    "        delta = delta1+delta2+delta3+delta4\n",
    "        #print(delta)\n",
    "        #if steps > 5:\n",
    "        #    break\n",
    "    total_iter_list.append(steps)\n",
    "print('done')"
   ]
  },
  {
   "cell_type": "code",
   "execution_count": 47,
   "metadata": {},
   "outputs": [
    {
     "data": {
      "text/plain": [
       "<matplotlib.axes._subplots.AxesSubplot at 0x130ead9a0>"
      ]
     },
     "execution_count": 47,
     "metadata": {},
     "output_type": "execute_result"
    },
    {
     "data": {
      "image/png": "[encoded data removed]",
      "text/plain": [
       "<Figure size 432x288 with 1 Axes>"
      ]
     },
     "metadata": {
      "needs_background": "light"
     },
     "output_type": "display_data"
    }
   ],
   "source": [
    "pd.Series(total_iter_list).hist()"
   ]
  },
  {
   "cell_type": "code",
   "execution_count": 48,
   "metadata": {},
   "outputs": [
    {
     "data": {
      "text/plain": [
       "<matplotlib.axes._subplots.AxesSubplot at 0x130ef2c40>"
      ]
     },
     "execution_count": 48,
     "metadata": {},
     "output_type": "execute_result"
    },
    {
     "data": {
      "image/png": "[encoded data removed]",
      "text/plain": [
       "<Figure size 432x288 with 2 Axes>"
      ]
     },
     "metadata": {
      "needs_background": "light"
     },
     "output_type": "display_data"
    }
   ],
   "source": [
    "df['color'] = 'red'\n",
    "df.loc[kmeans.labels_==0,'color'] = 'blue'\n",
    "df.plot.scatter(x='eruptions',y='waiting',c='color')"
   ]
  },
  {
   "cell_type": "code",
   "execution_count": 49,
   "metadata": {},
   "outputs": [
    {
     "name": "stdout",
     "output_type": "stream",
     "text": [
      "done\n"
     ]
    }
   ],
   "source": [
    "t1 = []\n",
    "t2 = []\n",
    "t3 = []\n",
    "t4 = []\n",
    "for j in range(len(mean_vec_list)):\n",
    "    c1_x = mean_vec_list[j][0][0][0]\n",
    "    c1_y = mean_vec_list[j][0][0][1]\n",
    "    \n",
    "    c2_x = mean_vec_list[j][1][0][0]\n",
    "    c2_y = mean_vec_list[j][1][0][1]\n",
    "    \n",
    "    t1.append(c1_x)\n",
    "    t2.append(c1_y)\n",
    "    t3.append(c2_x)\n",
    "    t4.append(c2_y)\n",
    "print('done')"
   ]
  },
  {
   "cell_type": "code",
   "execution_count": 50,
   "metadata": {},
   "outputs": [
    {
     "data": {
      "text/plain": [
       "<matplotlib.axes._subplots.AxesSubplot at 0x13110e5e0>"
      ]
     },
     "execution_count": 50,
     "metadata": {},
     "output_type": "execute_result"
    },
    {
     "data": {
      "image/png": "[encoded data removed]",
      "text/plain": [
       "<Figure size 432x288 with 1 Axes>"
      ]
     },
     "metadata": {
      "needs_background": "light"
     },
     "output_type": "display_data"
    }
   ],
   "source": [
    "pd.Series(t1).plot()"
   ]
  },
  {
   "cell_type": "code",
   "execution_count": 51,
   "metadata": {},
   "outputs": [
    {
     "data": {
      "text/plain": [
       "<matplotlib.axes._subplots.AxesSubplot at 0x130ee9490>"
      ]
     },
     "execution_count": 51,
     "metadata": {},
     "output_type": "execute_result"
    },
    {
     "data": {
      "image/png": "[encoded data removed]",
      "text/plain": [
       "<Figure size 432x288 with 1 Axes>"
      ]
     },
     "metadata": {
      "needs_background": "light"
     },
     "output_type": "display_data"
    }
   ],
   "source": [
    "pd.Series(t2).plot()"
   ]
  },
  {
   "cell_type": "code",
   "execution_count": 52,
   "metadata": {},
   "outputs": [
    {
     "data": {
      "text/plain": [
       "<matplotlib.axes._subplots.AxesSubplot at 0x131001d90>"
      ]
     },
     "execution_count": 52,
     "metadata": {},
     "output_type": "execute_result"
    },
    {
     "data": {
      "image/png": "[encoded data removed]",
      "text/plain": [
       "<Figure size 432x288 with 1 Axes>"
      ]
     },
     "metadata": {
      "needs_background": "light"
     },
     "output_type": "display_data"
    }
   ],
   "source": [
    "pd.Series(t3).plot()"
   ]
  },
  {
   "cell_type": "code",
   "execution_count": 53,
   "metadata": {},
   "outputs": [
    {
     "data": {
      "text/plain": [
       "<matplotlib.axes._subplots.AxesSubplot at 0x1165b8c10>"
      ]
     },
     "execution_count": 53,
     "metadata": {},
     "output_type": "execute_result"
    },
    {
     "data": {
      "image/png": "[encoded data removed]",
      "text/plain": [
       "<Figure size 432x288 with 1 Axes>"
      ]
     },
     "metadata": {
      "needs_background": "light"
     },
     "output_type": "display_data"
    }
   ],
   "source": [
    "pd.Series(t4).plot()"
   ]
  },
  {
   "cell_type": "code",
   "execution_count": 54,
   "metadata": {},
   "outputs": [
    {
     "data": {
      "text/plain": [
       "'\\nk-means init w/ MLE will result in GMM EM almost always converging within 8 iterations. \\nthis is not the same with random init. you could get lucky with random init, but it is usually slower.\\n\\nconverges to basically the same point for both of them. \\n\\n\\n'"
      ]
     },
     "execution_count": 54,
     "metadata": {},
     "output_type": "execute_result"
    }
   ],
   "source": [
    "\"\"\"\n",
    "k-means init w/ MLE will result in GMM EM almost always converging within 8 iterations. \n",
    "this is not the same with random init. you could get lucky with random init, but it is usually slower.\n",
    "\n",
    "converges to basically the same point for both of them. \n",
    "\n",
    "\n",
    "\"\"\""
   ]
  },
  {
   "cell_type": "code",
   "execution_count": null,
   "metadata": {},
   "outputs": [],
   "source": []
  }
 ],
 "metadata": {
  "kernelspec": {
   "display_name": "Python 3",
   "language": "python",
   "name": "python3"
  },
  "language_info": {
   "codemirror_mode": {
    "name": "ipython",
    "version": 3
   },
   "file_extension": ".py",
   "mimetype": "text/x-python",
   "name": "python",
   "nbconvert_exporter": "python",
   "pygments_lexer": "ipython3",
   "version": "3.8.3"
  }
 },
 "nbformat": 4,
 "nbformat_minor": 4
}
